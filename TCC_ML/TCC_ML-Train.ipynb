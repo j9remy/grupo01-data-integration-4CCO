{
 "cells": [
  {
   "cell_type": "code",
   "execution_count": 2,
   "id": "48801b57",
   "metadata": {},
   "outputs": [],
   "source": [
    "import torch\n",
    "import numpy as np\n",
    "import pandas as pd\n",
    "import itertools\n",
    "import matplotlib.pyplot as plt\n",
    "import accelerate\n",
    "import evaluate\n",
    "import gc\n",
    "import warnings\n",
    "warnings.filterwarnings(\"ignore\")\n",
    "\n",
    "from collections import Counter\n",
    "from imblearn.over_sampling import RandomOverSampler\n",
    "from datasets import Dataset, Image, ClassLabel\n",
    "from torch.utils.data import DataLoader\n",
    "\n",
    "from transformers import (\n",
    "    TrainingArguments,\n",
    "    Trainer,\n",
    "    ViTImageProcessor,\n",
    "    ViTForImageClassification,\n",
    "    DefaultDataCollator)\n",
    "\n",
    "from sklearn.metrics import (\n",
    "    accuracy_score,\n",
    "    roc_auc_score,\n",
    "    confusion_matrix,\n",
    "    classification_report,\n",
    "    f1_score)\n",
    "from torchvision.transforms import (\n",
    "    CenterCrop,\n",
    "    Compose,\n",
    "    Normalize,\n",
    "    RandomRotation,\n",
    "    RandomResizedCrop,\n",
    "    RandomHorizontalFlip,\n",
    "    RandomAdjustSharpness,\n",
    "    Resize,\n",
    "    ToTensor)"
   ]
  },
  {
   "cell_type": "code",
   "execution_count": 3,
   "id": "05416260",
   "metadata": {},
   "outputs": [],
   "source": [
    "from PIL import ImageFile\n",
    "\n",
    "# Esta configuração permite que a biblioteca tente carregar imagens mesmo se elas estiverem corrompidas ou incompletas\n",
    "ImageFile.LOAD_TRUNCATED_IMAGES = True"
   ]
  },
  {
   "cell_type": "code",
   "execution_count": 4,
   "id": "04263b47",
   "metadata": {},
   "outputs": [],
   "source": [
    "import torch\n",
    "from torchvision import transforms\n",
    "from torchvision.models.detection import fasterrcnn_resnet50_fpn\n",
    "\n",
    "# Carregar o modelo YOLO pré-treinado\n",
    "model_yolo = fasterrcnn_resnet50_fpn(pretrained=True)\n",
    "model_yolo.eval()\n",
    "\n",
    "# Definir transformações para redimensionar e normalizar as imagens\n",
    "transform_yolo = transforms.Compose([\n",
    "    transforms.ToTensor(),\n",
    "    transforms.Normalize(mean=[0.485, 0.456, 0.406], std=[0.229, 0.224, 0.225]),\n",
    "])\n",
    "\n",
    "# Função para detectar objetos em uma imagem usando YOLO\n",
    "def detect_objects_yolo(image):\n",
    "    # Aplicar transformações à imagem\n",
    "    image = transform_yolo(image).unsqueeze(0)\n",
    "\n",
    "    # Executar inferência no modelo YOLO\n",
    "    with torch.no_grad():\n",
    "        prediction = model_yolo(image)\n",
    "\n",
    "    return prediction"
   ]
  },
  {
   "cell_type": "code",
   "execution_count": 6,
   "id": "f330f525",
   "metadata": {},
   "outputs": [
    {
     "name": "stdout",
     "output_type": "stream",
     "text": [
      "19457 19457\n",
      "(19457, 2)\n"
     ]
    }
   ],
   "source": [
    "from pathlib import Path\n",
    "from tqdm import tqdm\n",
    "import os\n",
    "import pandas as pd\n",
    "\n",
    "# Inicializando as listas vazias p armazenar os nomes dos arquivos e dos rótulos\n",
    "file_names = []\n",
    "labels = []\n",
    "\n",
    "# Iterando por todos os arquivos de imagem no diretório especificado\n",
    "for file in sorted((Path('deepfake_database/deepfake_database').glob('*/*/*.*'))):\n",
    "    parts = file.parts\n",
    "    label = parts[-2]\n",
    "    labels.append(label)\n",
    "    file_names.append(str(file))\n",
    "\n",
    "#  Printando o número total de nomes de arquivo e rótulos\n",
    "print(len(file_names), len(labels))\n",
    "\n",
    "# Criando dataframe a partir dos nomes de arquivo e rótulos coletados\n",
    "df = pd.DataFrame.from_dict({\"image\": file_names, \"label\": labels})\n",
    "print(df.shape)\n"
   ]
  },
  {
   "cell_type": "code",
   "execution_count": 7,
   "id": "6659bc5c",
   "metadata": {},
   "outputs": [
    {
     "data": {
      "text/html": [
       "<div>\n",
       "<style scoped>\n",
       "    .dataframe tbody tr th:only-of-type {\n",
       "        vertical-align: middle;\n",
       "    }\n",
       "\n",
       "    .dataframe tbody tr th {\n",
       "        vertical-align: top;\n",
       "    }\n",
       "\n",
       "    .dataframe thead th {\n",
       "        text-align: right;\n",
       "    }\n",
       "</style>\n",
       "<table border=\"1\" class=\"dataframe\">\n",
       "  <thead>\n",
       "    <tr style=\"text-align: right;\">\n",
       "      <th></th>\n",
       "      <th>image</th>\n",
       "      <th>label</th>\n",
       "    </tr>\n",
       "  </thead>\n",
       "  <tbody>\n",
       "    <tr>\n",
       "      <th>0</th>\n",
       "      <td>deepfake_database\\deepfake_database\\test\\df\\df...</td>\n",
       "      <td>df</td>\n",
       "    </tr>\n",
       "    <tr>\n",
       "      <th>1</th>\n",
       "      <td>deepfake_database\\deepfake_database\\test\\df\\df...</td>\n",
       "      <td>df</td>\n",
       "    </tr>\n",
       "    <tr>\n",
       "      <th>2</th>\n",
       "      <td>deepfake_database\\deepfake_database\\test\\df\\df...</td>\n",
       "      <td>df</td>\n",
       "    </tr>\n",
       "    <tr>\n",
       "      <th>3</th>\n",
       "      <td>deepfake_database\\deepfake_database\\test\\df\\df...</td>\n",
       "      <td>df</td>\n",
       "    </tr>\n",
       "    <tr>\n",
       "      <th>4</th>\n",
       "      <td>deepfake_database\\deepfake_database\\test\\df\\df...</td>\n",
       "      <td>df</td>\n",
       "    </tr>\n",
       "  </tbody>\n",
       "</table>\n",
       "</div>"
      ],
      "text/plain": [
       "                                               image label\n",
       "0  deepfake_database\\deepfake_database\\test\\df\\df...    df\n",
       "1  deepfake_database\\deepfake_database\\test\\df\\df...    df\n",
       "2  deepfake_database\\deepfake_database\\test\\df\\df...    df\n",
       "3  deepfake_database\\deepfake_database\\test\\df\\df...    df\n",
       "4  deepfake_database\\deepfake_database\\test\\df\\df...    df"
      ]
     },
     "execution_count": 7,
     "metadata": {},
     "output_type": "execute_result"
    }
   ],
   "source": [
    "df.head()"
   ]
  },
  {
   "cell_type": "code",
   "execution_count": 8,
   "id": "9827660c",
   "metadata": {},
   "outputs": [
    {
     "data": {
      "text/plain": [
       "array(['df', 'real'], dtype=object)"
      ]
     },
     "execution_count": 8,
     "metadata": {},
     "output_type": "execute_result"
    }
   ],
   "source": [
    "df['label'].unique()"
   ]
  },
  {
   "cell_type": "code",
   "execution_count": 9,
   "id": "0667f153",
   "metadata": {},
   "outputs": [
    {
     "name": "stdout",
     "output_type": "stream",
     "text": [
      "(23018, 2)\n"
     ]
    }
   ],
   "source": [
    "# oversampling aleatório da classe minoritária\n",
    "# 'y' contém a variável de destino (rótulo) que queremos prever\n",
    "y = df[['label']]\n",
    "\n",
    "# Removendo a coluna 'label' do DF p separar os recursos da variável de destino\n",
    "df = df.drop(['label'], axis=1)\n",
    "\n",
    "ros = RandomOverSampler(random_state=42)\n",
    "\n",
    "# Usar o RandomOverSampler para resamplear o conjunto de dados, oversampling da classe minoritária\n",
    "# 'df' contém os dados de recursos, e 'y_resampled' conterá a variável de destino resampleada\n",
    "df, y_resampled = ros.fit_resample(df, y)\n",
    "\n",
    "# Excluindo a variável original 'y' p economizar memória\n",
    "del y\n",
    "\n",
    "# Adicionando a variável de destino resampleada 'y_resampled' como uma nova coluna 'label' no DataFrame\n",
    "df['label'] = y_resampled\n",
    "\n",
    "# Excluindo a variável resampleada p economizar memória\n",
    "del y_resampled\n",
    "\n",
    "# GarbageCollector pra liberar a memória descartada\n",
    "gc.collect()\n",
    "\n",
    "print(df.shape)"
   ]
  },
  {
   "cell_type": "code",
   "execution_count": 10,
   "id": "e1c6a521",
   "metadata": {},
   "outputs": [
    {
     "data": {
      "image/jpeg": "[encoded data removed]",
      "image/png": "[encoded data removed]",
      "text/plain": [
       "<PIL.JpegImagePlugin.JpegImageFile image mode=RGB size=256x256>"
      ]
     },
     "execution_count": 10,
     "metadata": {},
     "output_type": "execute_result"
    }
   ],
   "source": [
    "dataset = Dataset.from_pandas(df).cast_column(\"image\", Image())\n",
    "\n",
    "dataset[0][\"image\"]"
   ]
  },
  {
   "cell_type": "code",
   "execution_count": 11,
   "id": "da709fe2",
   "metadata": {},
   "outputs": [
    {
     "name": "stdout",
     "output_type": "stream",
     "text": [
      "['df', 'df', 'df', 'df', 'df']\n"
     ]
    }
   ],
   "source": [
    "# Extraindo os 5 primeiros elementos da lista criada\n",
    "labels_subset = labels[:5]\n",
    "print(labels_subset)"
   ]
  },
  {
   "cell_type": "code",
   "execution_count": 14,
   "id": "9cbf8329",
   "metadata": {},
   "outputs": [
    {
     "name": "stdout",
     "output_type": "stream",
     "text": [
      "Mapeamento de IDs para Rótulos: {0: 'real', 1: 'df'} \n",
      "\n",
      "Mapeamento de Rótulos para IDs: {'real': 0, 'df': 1}\n"
     ]
    }
   ],
   "source": [
    "# Criando uma lista de rótulos únicos convertendo 'labels' para um conjunto e depois de volta para uma lista\n",
    "labels_list = ['real', 'df']\n",
    "\n",
    "# Inicializando os dicionários vazios p mapear os rótulos\n",
    "label2id, id2label = dict(), dict()\n",
    "\n",
    "# Iterando sobre os rótulos únicos e atribuindo a cada rótulo um ID, e vice-versa\n",
    "for i, label in enumerate(labels_list):\n",
    "    label2id[label] = i\n",
    "    id2label[i] = label\n",
    "\n",
    "print(\"Mapeamento de IDs para Rótulos:\", id2label, '\\n')\n",
    "print(\"Mapeamento de Rótulos para IDs:\", label2id)"
   ]
  },
  {
   "cell_type": "code",
   "execution_count": 15,
   "id": "54cfffab",
   "metadata": {},
   "outputs": [
    {
     "data": {
      "application/vnd.jupyter.widget-view+json": {
       "model_id": "64afedfa2e5840d181dbaf2c8e0f609e",
       "version_major": 2,
       "version_minor": 0
      },
      "text/plain": [
       "Map:   0%|          | 0/23018 [00:00<?, ? examples/s]"
      ]
     },
     "metadata": {},
     "output_type": "display_data"
    },
    {
     "data": {
      "application/vnd.jupyter.widget-view+json": {
       "model_id": "f63abaef9b5c45e188ae1f41211ba7b6",
       "version_major": 2,
       "version_minor": 0
      },
      "text/plain": [
       "Casting the dataset:   0%|          | 0/23018 [00:00<?, ? examples/s]"
      ]
     },
     "metadata": {},
     "output_type": "display_data"
    }
   ],
   "source": [
    "# Criando classlabels para corresponder rótulos a IDs\n",
    "ClassLabels = ClassLabel(num_classes=len(labels_list), names=labels_list)\n",
    "\n",
    "# Mapeando rótulos -> IDs\n",
    "def map_label2id(example):\n",
    "    example['label'] = ClassLabels.str2int(example['label'])\n",
    "    return example\n",
    "\n",
    "dataset = dataset.map(map_label2id, batched=True)\n",
    "dataset = dataset.cast_column('label', ClassLabels)\n",
    "\n",
    "# Dividindo o conjunto emtreinamento e teste (70-30)\n",
    "dataset = dataset.train_test_split(test_size=0.3, shuffle=True, stratify_by_column=\"label\")\n",
    "\n",
    "train_data = dataset['train']\n",
    "test_data = dataset['test']"
   ]
  },
  {
   "cell_type": "code",
   "execution_count": 16,
   "id": "ac5e0c08",
   "metadata": {},
   "outputs": [
    {
     "name": "stdout",
     "output_type": "stream",
     "text": [
      "Size:  224\n"
     ]
    }
   ],
   "source": [
    "# definindo o ViT pré-treinado que vai ser utilizado\n",
    "model_str = \"dima806/deepfake_vs_real_image_detection\" # 'vit-base-patch16-224-in21k'\n",
    "\n",
    "# Criando um processador para a entrada do modelo\n",
    "processor = ViTImageProcessor.from_pretrained(model_str)\n",
    "\n",
    "# Recuperando a média e o desvio padrão da imagem usados para normalização\n",
    "image_mean, image_std = processor.image_mean, processor.image_std\n",
    "\n",
    "# Visualizando o a altura das imagens de entrada do modelo ViT\n",
    "size = processor.size[\"height\"]\n",
    "print(\"Size: \", size)\n",
    "\n",
    "# Transformação dos dados de treinamento\n",
    "normalize = Normalize(mean=image_mean, std=image_std)\n",
    "\n",
    "_train_transforms = Compose(\n",
    "    [\n",
    "        Resize((size, size)),        # Redimensionando as imagens para o tamanho de entrada do modelo\n",
    "        RandomRotation(90),          # Aplicando rotação aleatória\n",
    "        RandomAdjustSharpness(2),    # Ajustando nitidez aleatoriamente\n",
    "        ToTensor(),                  # Convertendo as imagens para o formato do Tensor\n",
    "        normalize                    # Normalizando as imagens usando média e desvio padrão\n",
    "    ]\n",
    ")\n",
    "\n",
    "# Transformação dos dados de validação\n",
    "_val_transforms = Compose(\n",
    "    [\n",
    "        Resize((size, size)),        # Redimensionando as imagens para o tamanho de entrada do modelo\n",
    "        ToTensor(),                  # Convertendo as imagens para o formato do Tensor\n",
    "        normalize                    # Normalizando as imagens usando média e desvio padrão\n",
    "    ]\n",
    ")\n",
    "\n",
    "# Função p aplicar a TRANSFORMAÇÃO em um número x de exemplos\n",
    "def train_transforms(examples):\n",
    "    examples['pixel_values'] = [_train_transforms(image.convert(\"RGB\")) for image in examples['image']]\n",
    "    return examples\n",
    "\n",
    "# Função p aplicar a VALIDAÇÃO em um número x de exemplos\n",
    "def val_transforms(examples):\n",
    "    examples['pixel_values'] = [_val_transforms(image.convert(\"RGB\")) for image in examples['image']]\n",
    "    return examples"
   ]
  },
  {
   "cell_type": "code",
   "execution_count": 13,
   "id": "2a3c5695",
   "metadata": {},
   "outputs": [],
   "source": [
    "# Setando as transfomrações para os dados de treinamento e dados de validação\n",
    "train_data.set_transform(train_transforms)\n",
    "test_data.set_transform(val_transforms)"
   ]
  },
  {
   "cell_type": "code",
   "execution_count": 14,
   "id": "05ef55a0",
   "metadata": {},
   "outputs": [],
   "source": [
    "# Função para preparar os dados em batch para o treinamento do modelo\n",
    "def collate_fn(examples):\n",
    "    pixel_values = torch.stack([example[\"pixel_values\"] for example in examples])\n",
    "    labels = torch.tensor([example['label'] for example in examples])\n",
    "    return {\"pixel_values\": pixel_values, \"labels\": labels}"
   ]
  },
  {
   "cell_type": "code",
   "execution_count": 15,
   "id": "1fa6d12b",
   "metadata": {},
   "outputs": [
    {
     "name": "stdout",
     "output_type": "stream",
     "text": [
      "85.800194\n"
     ]
    }
   ],
   "source": [
    "# Criando um modelo a partir de um checkpoint do pré-treinamento com um número especificado de rótulos de saída\n",
    "model = ViTForImageClassification.from_pretrained(model_str, num_labels=len(labels_list))\n",
    "\n",
    "# Configurando o mapeamento de rótulos de classe para seus índices correspondentes (usaremos isso mais p frente)\n",
    "model.config.id2label = id2label\n",
    "model.config.label2id = label2id\n",
    "\n",
    "# Print para visualizarmos o número de parâmetros treinávei para o modelo\n",
    "print(model.num_parameters(only_trainable=True) / 1e6)"
   ]
  },
  {
   "cell_type": "code",
   "execution_count": 16,
   "id": "68d6b051",
   "metadata": {},
   "outputs": [],
   "source": [
    "# Métrica de acurácia do módulo\n",
    "accuracy = evaluate.load(\"accuracy\")\n",
    "\n",
    "# Função para calcular as métricas de avaliação\n",
    "def compute_metrics(eval_pred):\n",
    "    predictions = eval_pred.predictions\n",
    "    label_ids = eval_pred.label_ids\n",
    "\n",
    "    # Converter previsões do modelo em rótulos de classe, selecionando a classe com a probabilidade mais alta (argmax)\n",
    "    predicted_labels = predictions.argmax(axis=1)\n",
    "\n",
    "    # Calculando a pontuação comparando rótulos previstos com rótulos verdadeiros\n",
    "    acc_score = accuracy.compute(predictions=predicted_labels, references=label_ids)['accuracy']\n",
    "\n",
    "    return {\n",
    "        \"accuracy\": acc_score\n",
    "    }"
   ]
  },
  {
   "cell_type": "code",
   "execution_count": 17,
   "id": "4a6aeba3",
   "metadata": {},
   "outputs": [],
   "source": [
    "metric_name = \"accuracy\"\n",
    "\n",
    "# Nome do modelo \n",
    "# Esse será o nome do diretório que será criado, ele armazena tanto os checkpoints do treinamento quanto o treinamento completo do modelo\n",
    "model_name = \"deepfake_vs_real_image_detection\"\n",
    "\n",
    "num_train_epochs = 2\n",
    "\n",
    "# Criar uma instância de TrainingArguments para configurar as configurações de treinamento.\n",
    "args = TrainingArguments(\n",
    "    output_dir=model_name, # Diretório onde checkpoints e saídas do modelo serão salvos.\n",
    "    logging_dir='./logs',  # Diretório onde os logs de treinamento serão armazenados.\n",
    "    evaluation_strategy=\"epoch\", # Estratégia da avaliação, que é realizada no final de cada epoch\n",
    "    learning_rate=1e-6,    # Taxa de aprendizado para o otimizador.\n",
    "    per_device_train_batch_size=32, # Tamanho do lote para treinamento\n",
    "    per_device_eval_batch_size=8, # Tamanho do lote para avaliação\n",
    "    num_train_epochs=num_train_epochs, # Número total de treinamento para as epoch's\n",
    "    weight_decay=0.02, # Aplicando decaimento de peso para evitar overfitting\n",
    "    warmup_steps=50, # Número de etapas de aquecimento para o escalonador de taxa de aprendizado\n",
    "    remove_unused_columns=False, # Desabilitando a opção de remover as colunas não utilizadas do conjunto\n",
    "    save_strategy='epoch', # Definir a estratégia para salvar checkpoints do modelo (por época neste caso).\n",
    "    load_best_model_at_end=True, # Carregar o melhor modelo no final do treinamento.\n",
    "    save_total_limit=1, # Limitando úmero total de checkpoints salvos para economizar espaço\n",
    "\n",
    "    report_to=\"none\"\n",
    ")"
   ]
  },
  {
   "cell_type": "code",
   "execution_count": 18,
   "id": "2430c58e",
   "metadata": {},
   "outputs": [],
   "source": [
    "# Instância do \"treinador\" para ajustar a ML.\n",
    "\n",
    "# - `model`: ML pré-treinado a ser ajustado\n",
    "# - `args`: Configurações e hiperparâmetros para treinamento\n",
    "# - `train_dataset`: Conjunto de dados usado para treinar o modelo\n",
    "# - `eval_dataset`: Conjunto de dados usado para avaliar o modelo durante o treinamento\n",
    "# - `data_collator`: Uma função que define como os lotes dos dados serão agrupados e processados\n",
    "# - `compute_metrics`: Função para calcular métricas de avaliação personalizadas\n",
    "# - `tokenizer`: Tokenizador usado para processar dados de texto\n",
    "\n",
    "trainer = Trainer(\n",
    "    model,\n",
    "    args,\n",
    "    train_dataset=train_data,\n",
    "    eval_dataset=test_data,\n",
    "    data_collator=collate_fn,\n",
    "    compute_metrics=compute_metrics,\n",
    "    tokenizer=processor,\n",
    ")"
   ]
  },
  {
   "cell_type": "code",
   "execution_count": 40,
   "id": "865768d8",
   "metadata": {},
   "outputs": [
    {
     "data": {
      "text/html": [
       "\n",
       "    <div>\n",
       "      \n",
       "      <progress value='1728' max='864' style='width:300px; height:20px; vertical-align: middle;'></progress>\n",
       "      [864/864 2:35:04]\n",
       "    </div>\n",
       "    "
      ],
      "text/plain": [
       "<IPython.core.display.HTML object>"
      ]
     },
     "metadata": {},
     "output_type": "display_data"
    },
    {
     "data": {
      "text/plain": [
       "{'eval_loss': 2.5447912216186523,\n",
       " 'eval_accuracy': 0.45525629887054736,\n",
       " 'eval_runtime': 1137.414,\n",
       " 'eval_samples_per_second': 6.072,\n",
       " 'eval_steps_per_second': 0.76}"
      ]
     },
     "execution_count": 40,
     "metadata": {},
     "output_type": "execute_result"
    }
   ],
   "source": [
    "# Avaliar o desempenho do modelo de pré-treinamento em um conjunto de dados de teste.\n",
    "# Essa função calcula várias métricas (acurácia, perda, etc), e gera quão bem o modelo está se saindo em relação aos dados não vistos\n",
    "trainer.evaluate()\n",
    "\n",
    "## Resultado utilizando SVC\n",
    "#{'eval_loss': 2.5447912216186523,\n",
    "# 'eval_accuracy': 0.45525629887054736,\n",
    "# 'eval_runtime': 1313.291,\n",
    "# 'eval_samples_per_second': 5.259,\n",
    "# 'eval_steps_per_second': 0.658}"
   ]
  },
  {
   "cell_type": "code",
   "execution_count": 41,
   "id": "2b7e6f6d",
   "metadata": {},
   "outputs": [
    {
     "data": {
      "text/html": [
       "\n",
       "    <div>\n",
       "      \n",
       "      <progress value='1008' max='1008' style='width:300px; height:20px; vertical-align: middle;'></progress>\n",
       "      [1008/1008 4:24:41, Epoch 2/2]\n",
       "    </div>\n",
       "    <table border=\"1\" class=\"dataframe\">\n",
       "  <thead>\n",
       " <tr style=\"text-align: left;\">\n",
       "      <th>Epoch</th>\n",
       "      <th>Training Loss</th>\n",
       "      <th>Validation Loss</th>\n",
       "      <th>Accuracy</th>\n",
       "    </tr>\n",
       "  </thead>\n",
       "  <tbody>\n",
       "    <tr>\n",
       "      <td>1</td>\n",
       "      <td>0.768200</td>\n",
       "      <td>0.467214</td>\n",
       "      <td>0.798002</td>\n",
       "    </tr>\n",
       "    <tr>\n",
       "      <td>2</td>\n",
       "      <td>0.262700</td>\n",
       "      <td>0.371917</td>\n",
       "      <td>0.842021</td>\n",
       "    </tr>\n",
       "  </tbody>\n",
       "</table><p>"
      ],
      "text/plain": [
       "<IPython.core.display.HTML object>"
      ]
     },
     "metadata": {},
     "output_type": "display_data"
    },
    {
     "data": {
      "text/plain": [
       "TrainOutput(global_step=1008, training_loss=0.5128186787404712, metrics={'train_runtime': 15896.2486, 'train_samples_per_second': 2.027, 'train_steps_per_second': 0.063, 'total_flos': 2.4971018733406126e+18, 'train_loss': 0.5128186787404712, 'epoch': 2.0})"
      ]
     },
     "execution_count": 41,
     "metadata": {},
     "output_type": "execute_result"
    }
   ],
   "source": [
    "trainer.train()"
   ]
  },
  {
   "cell_type": "code",
   "execution_count": 42,
   "id": "677d43a4",
   "metadata": {},
   "outputs": [
    {
     "data": {
      "text/html": [],
      "text/plain": [
       "<IPython.core.display.HTML object>"
      ]
     },
     "metadata": {},
     "output_type": "display_data"
    },
    {
     "name": "stdout",
     "output_type": "stream",
     "text": [
      "{'test_loss': 0.3719169497489929, 'test_accuracy': 0.8420214306400232, 'test_runtime': 973.6002, 'test_samples_per_second': 7.093, 'test_steps_per_second': 0.887}\n"
     ]
    }
   ],
   "source": [
    "# Testando o modelo treinado em cima da nossa base de testes\n",
    "outputs = trainer.predict(test_data)\n",
    "print(outputs.metrics)"
   ]
  },
  {
   "cell_type": "code",
   "execution_count": 43,
   "id": "41ed6883",
   "metadata": {},
   "outputs": [
    {
     "name": "stdout",
     "output_type": "stream",
     "text": [
      "Accuracy: 0.8420\n",
      "F1 Score: 0.8406\n"
     ]
    },
    {
     "data": {
      "image/png": "[encoded data removed]",
      "text/plain": [
       "<Figure size 800x600 with 2 Axes>"
      ]
     },
     "metadata": {},
     "output_type": "display_data"
    },
    {
     "name": "stdout",
     "output_type": "stream",
     "text": [
      "\n",
      "Classification report:\n",
      "\n",
      "              precision    recall  f1-score   support\n",
      "\n",
      "        Real     0.9203    0.7489    0.8258      3453\n",
      "        Fake     0.7883    0.9351    0.8555      3453\n",
      "\n",
      "    accuracy                         0.8420      6906\n",
      "   macro avg     0.8543    0.8420    0.8406      6906\n",
      "weighted avg     0.8543    0.8420    0.8406      6906\n",
      "\n"
     ]
    }
   ],
   "source": [
    "# Coletando os rótulos verdadeiros das saídas do modelo\n",
    "y_true = outputs.label_ids\n",
    "\n",
    "# Coletando as previsões dos rótulos selecionando a classe com a probabilidade mais alta\n",
    "y_pred = outputs.predictions.argmax(1)\n",
    "\n",
    "def plot_confusion_matrix(cm, classes, title='Matriz de Confusão', cmap=plt.cm.Blues, figsize=(10, 8)):\n",
    "    plt.figure(figsize=figsize)\n",
    "    plt.imshow(cm, interpolation='nearest', cmap=cmap)\n",
    "    plt.title(title)\n",
    "    plt.colorbar()\n",
    "    \n",
    "    tick_marks = np.arange(len(classes))\n",
    "    plt.xticks(tick_marks, classes, rotation=90)\n",
    "    plt.yticks(tick_marks, classes)\n",
    "    fmt = '.0f'\n",
    "    thresh = cm.max() / 2.0\n",
    "    \n",
    "    for i, j in itertools.product(range(cm.shape[0]), range(cm.shape[1])):\n",
    "        plt.text(j, i, format(cm[i, j], fmt), horizontalalignment=\"center\", color=\"white\" if cm[i, j] > thresh else \"black\")\n",
    "    \n",
    "    plt.ylabel('Rótulo verdadeiro')\n",
    "    plt.xlabel('Rótulo previsto')\n",
    "    plt.tight_layout()\n",
    "    plt.show()\n",
    "\n",
    "accuracy = accuracy_score(y_true, y_pred)\n",
    "f1 = f1_score(y_true, y_pred, average='macro')\n",
    "\n",
    "print(f\"Precisão: {accuracy:.4f}\")\n",
    "print(f\"Pontuação F1: {f1:.4f}\")\n",
    "\n",
    "if len(labels_list) <= 150:\n",
    "    cm = confusion_matrix(y_true, y_pred)\n",
    "\n",
    "    plot_confusion_matrix(cm, labels_list, figsize=(8, 6))\n",
    "\n",
    "print()\n",
    "\n",
    "print(\"Relatório de classificação:\")\n",
    "print()\n",
    "print(classification_report(y_true, y_pred, target_names=labels_list, digits=4))"
   ]
  },
  {
   "cell_type": "code",
   "execution_count": 44,
   "id": "72f662f4",
   "metadata": {},
   "outputs": [],
   "source": [
    "# Esta linha de código é responsável por salvar o modelo que foi treinado. \n",
    "# O \"trainer\" serializará o modelo  e seus pesos associados, tornando possível \n",
    "# recarregar e usar o modelo no futuro sem a necessidade de treiná-lo novamente.\n",
    "trainer.save_model()"
   ]
  },
  {
   "cell_type": "code",
   "execution_count": 48,
   "id": "82e237fe",
   "metadata": {},
   "outputs": [],
   "source": [
    "# Import the 'pipeline' function from the 'transformers' library.\n",
    "from transformers import pipeline\n",
    "\n",
    "# Create a pipeline for image classification tasks.\n",
    "# You need to specify the 'model_name' and the 'device' to use for inference.\n",
    "# - 'model_name': The name of the pre-trained model to be used for image classification.\n",
    "# - 'device': Specifies the device to use for running the model (0 for GPU, -1 for CPU).\n",
    "pipe = pipeline('image-classification', model=model_name, device=-1)"
   ]
  },
  {
   "cell_type": "code",
   "execution_count": 95,
   "id": "bdf9e5e2",
   "metadata": {},
   "outputs": [
    {
     "name": "stdout",
     "output_type": "stream",
     "text": [
      "[Dataset({\n",
      "    features: ['image', 'label'],\n",
      "    num_rows: 6906\n",
      "})]\n"
     ]
    }
   ],
   "source": [
    "print([test_data])"
   ]
  }
 ],
 "metadata": {
  "kernelspec": {
   "display_name": "Python 3 (ipykernel)",
   "language": "python",
   "name": "python3"
  },
  "language_info": {
   "codemirror_mode": {
    "name": "ipython",
    "version": 3
   },
   "file_extension": ".py",
   "mimetype": "text/x-python",
   "name": "python",
   "nbconvert_exporter": "python",
   "pygments_lexer": "ipython3",
   "version": "3.10.8"
  }
 },
 "nbformat": 4,
 "nbformat_minor": 5
}
